{
  "nbformat": 4,
  "nbformat_minor": 0,
  "metadata": {
    "colab": {
      "provenance": [],
      "authorship_tag": "ABX9TyPR8OeZ/xlKnINFdt4DoqKM",
      "include_colab_link": true
    },
    "kernelspec": {
      "name": "python3",
      "display_name": "Python 3"
    },
    "language_info": {
      "name": "python"
    }
  },
  "cells": [
    {
      "cell_type": "markdown",
      "metadata": {
        "id": "view-in-github",
        "colab_type": "text"
      },
      "source": [
        "<a href=\"https://colab.research.google.com/github/Jaspreet-Singh619/Python/blob/main/function.ipynb\" target=\"_parent\"><img src=\"https://colab.research.google.com/assets/colab-badge.svg\" alt=\"Open In Colab\"/></a>"
      ]
    },
    {
      "cell_type": "code",
      "execution_count": 3,
      "metadata": {
        "id": "V1F8fK4sYbwY"
      },
      "outputs": [],
      "source": [
        "def func(*args):\n",
        "  print(type(args))\n",
        "  print(args)"
      ]
    },
    {
      "cell_type": "code",
      "source": [
        "func(1,2,3,3,\"absa\",\"bub\")"
      ],
      "metadata": {
        "colab": {
          "base_uri": "https://localhost:8080/"
        },
        "id": "w1nRBqJPYnan",
        "outputId": "0279c933-951f-49e6-9012-26fa59ead4b6"
      },
      "execution_count": 4,
      "outputs": [
        {
          "output_type": "stream",
          "name": "stdout",
          "text": [
            "<class 'tuple'>\n",
            "(1, 2, 3, 3, 'absa', 'bub')\n"
          ]
        }
      ]
    },
    {
      "cell_type": "code",
      "source": [
        "def func2(**kwargs):\n",
        "  print(type(kwargs))\n",
        "  print(kwargs)\n",
        "  for key,value in kwargs.items():\n",
        "    print(type(key),\"key is :\",key)\n",
        "    print(type(value),\"value is :\",value)"
      ],
      "metadata": {
        "id": "dcKe5LtgYtdY"
      },
      "execution_count": 9,
      "outputs": []
    },
    {
      "cell_type": "code",
      "source": [
        "func2(a=1,b=4,c=\"bejfbe\")"
      ],
      "metadata": {
        "colab": {
          "base_uri": "https://localhost:8080/"
        },
        "id": "ZOi6XbvCY7lF",
        "outputId": "977a4068-9d6c-45ed-9df0-a0df0b738873"
      },
      "execution_count": 10,
      "outputs": [
        {
          "output_type": "stream",
          "name": "stdout",
          "text": [
            "<class 'dict'>\n",
            "{'a': 1, 'b': 4, 'c': 'bejfbe'}\n",
            "<class 'str'> key is : a\n",
            "<class 'int'> value is : 1\n",
            "<class 'str'> key is : b\n",
            "<class 'int'> value is : 4\n",
            "<class 'str'> key is : c\n",
            "<class 'str'> value is : bejfbe\n"
          ]
        }
      ]
    },
    {
      "cell_type": "code",
      "source": [
        "def outFunc(num):\n",
        "  def innerFunc(num1):\n",
        "    return num1+1\n",
        "  outnum=innerFunc(num)\n",
        "  return outnum"
      ],
      "metadata": {
        "id": "YgNJ2d7EZFsU"
      },
      "execution_count": 12,
      "outputs": []
    },
    {
      "cell_type": "code",
      "source": [
        "outFunc(5)"
      ],
      "metadata": {
        "colab": {
          "base_uri": "https://localhost:8080/"
        },
        "id": "MCPky8j1aTYQ",
        "outputId": "886b6dca-039c-4aa7-df33-0301036e95c1"
      },
      "execution_count": 13,
      "outputs": [
        {
          "output_type": "execute_result",
          "data": {
            "text/plain": [
              "6"
            ]
          },
          "metadata": {},
          "execution_count": 13
        }
      ]
    },
    {
      "cell_type": "code",
      "source": [],
      "metadata": {
        "id": "gnEoiM7Vaxxe"
      },
      "execution_count": null,
      "outputs": []
    }
  ]
}